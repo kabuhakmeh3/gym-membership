{
 "cells": [
  {
   "cell_type": "markdown",
   "metadata": {},
   "source": [
    "# Exploring Gym Membership Data"
   ]
  },
  {
   "cell_type": "code",
   "execution_count": 1,
   "metadata": {
    "collapsed": true
   },
   "outputs": [],
   "source": [
    "import numpy as np\n",
    "import pandas as pd\n",
    "import matplotlib.pyplot as plt\n",
    "import seaborn as sns\n",
    "import pickle\n",
    "%matplotlib inline"
   ]
  },
  {
   "cell_type": "markdown",
   "metadata": {},
   "source": [
    "** Load Data **"
   ]
  },
  {
   "cell_type": "code",
   "execution_count": 2,
   "metadata": {
    "collapsed": true
   },
   "outputs": [],
   "source": [
    "dict_file = 'names/name_dict.pckl'\n",
    "with open(dict_file, 'rb') as fp:\n",
    "    name_dict = pickle.load(fp)"
   ]
  },
  {
   "cell_type": "code",
   "execution_count": 3,
   "metadata": {
    "collapsed": true
   },
   "outputs": [],
   "source": [
    "xls = pd.ExcelFile('data/Full_Member_Data.xlsx')\n",
    "inactive = pd.read_excel(xls, 'Sheet2')"
   ]
  },
  {
   "cell_type": "markdown",
   "metadata": {},
   "source": [
    "** Fill in missing genders **"
   ]
  },
  {
   "cell_type": "code",
   "execution_count": 4,
   "metadata": {},
   "outputs": [
    {
     "data": {
      "text/plain": [
       "F    6895\n",
       "M    6655\n",
       "U     243\n",
       "Name: SEX, dtype: int64"
      ]
     },
     "execution_count": 4,
     "metadata": {},
     "output_type": "execute_result"
    }
   ],
   "source": [
    "inactive['SEX'].value_counts()"
   ]
  },
  {
   "cell_type": "code",
   "execution_count": 5,
   "metadata": {
    "collapsed": true
   },
   "outputs": [],
   "source": [
    "def gender_lookup(full_name, sex):\n",
    "    sex_dict = {'male':'M','female':'F'}\n",
    "    if sex == 'U':\n",
    "        name = full_name.split()[0]\n",
    "        try:\n",
    "            gender = name_dict[name.upper()]\n",
    "            return sex_dict[gender]\n",
    "        except:\n",
    "            return 'U'\n",
    "    else:\n",
    "        return sex"
   ]
  },
  {
   "cell_type": "code",
   "execution_count": 6,
   "metadata": {
    "collapsed": true
   },
   "outputs": [],
   "source": [
    "inactive['SEX'] = inactive.apply(lambda row: gender_lookup(\n",
    "                                row['PROPER_NAME'], \n",
    "                                row['SEX']), axis=1)"
   ]
  },
  {
   "cell_type": "code",
   "execution_count": 7,
   "metadata": {},
   "outputs": [
    {
     "data": {
      "text/plain": [
       "F    7016\n",
       "M    6756\n",
       "U      21\n",
       "Name: SEX, dtype: int64"
      ]
     },
     "execution_count": 7,
     "metadata": {},
     "output_type": "execute_result"
    }
   ],
   "source": [
    "inactive['SEX'].value_counts()"
   ]
  },
  {
   "cell_type": "code",
   "execution_count": 8,
   "metadata": {},
   "outputs": [
    {
     "data": {
      "text/plain": [
       "Index(['CLUB_ID', 'MEMB_NUM', 'PROPER_NAME', 'CONTRACT_DATE',\n",
       "       'EXPIRATION_DATE', 'AMOUNT', 'EMAIL', 'ADDR1', 'ADDR2', 'CITY', 'STATE',\n",
       "       'ZIP', 'AGE', 'SEX', 'ACTIVE_MONTHS', 'TOTAL_VISITS'],\n",
       "      dtype='object')"
      ]
     },
     "execution_count": 8,
     "metadata": {},
     "output_type": "execute_result"
    }
   ],
   "source": [
    "inactive.columns"
   ]
  },
  {
   "cell_type": "markdown",
   "metadata": {},
   "source": [
    "** Clean Up Dataset **\n",
    "\n",
    "+ Drop unnecessary columns \n",
    "+ Correct unreasonable values\n",
    "+ Create new features where necessary"
   ]
  },
  {
   "cell_type": "code",
   "execution_count": 9,
   "metadata": {
    "collapsed": true
   },
   "outputs": [],
   "source": [
    "data = inactive.copy()\n",
    "data['YEAR'] = data['CONTRACT_DATE'].apply(lambda x: x.year)"
   ]
  },
  {
   "cell_type": "code",
   "execution_count": 10,
   "metadata": {},
   "outputs": [
    {
     "data": {
      "text/plain": [
       "Index(['CLUB_ID', 'MEMB_NUM', 'PROPER_NAME', 'CONTRACT_DATE',\n",
       "       'EXPIRATION_DATE', 'AMOUNT', 'EMAIL', 'ADDR1', 'ADDR2', 'CITY', 'STATE',\n",
       "       'ZIP', 'AGE', 'SEX', 'ACTIVE_MONTHS', 'TOTAL_VISITS', 'YEAR'],\n",
       "      dtype='object')"
      ]
     },
     "execution_count": 10,
     "metadata": {},
     "output_type": "execute_result"
    }
   ],
   "source": [
    "data.columns"
   ]
  },
  {
   "cell_type": "code",
   "execution_count": 12,
   "metadata": {},
   "outputs": [],
   "source": [
    "features = ['AMOUNT','AGE','ACTIVE_MONTHS','TOTAL_VISITS', \n",
    "              'SEX','YEAR']\n",
    "data_numerical = data[features].dropna()"
   ]
  },
  {
   "cell_type": "code",
   "execution_count": 13,
   "metadata": {},
   "outputs": [
    {
     "data": {
      "text/html": [
       "<div>\n",
       "<style>\n",
       "    .dataframe thead tr:only-child th {\n",
       "        text-align: right;\n",
       "    }\n",
       "\n",
       "    .dataframe thead th {\n",
       "        text-align: left;\n",
       "    }\n",
       "\n",
       "    .dataframe tbody tr th {\n",
       "        vertical-align: top;\n",
       "    }\n",
       "</style>\n",
       "<table border=\"1\" class=\"dataframe\">\n",
       "  <thead>\n",
       "    <tr style=\"text-align: right;\">\n",
       "      <th></th>\n",
       "      <th>AMOUNT</th>\n",
       "      <th>AGE</th>\n",
       "      <th>ACTIVE_MONTHS</th>\n",
       "      <th>TOTAL_VISITS</th>\n",
       "      <th>SEX</th>\n",
       "      <th>YEAR</th>\n",
       "    </tr>\n",
       "  </thead>\n",
       "  <tbody>\n",
       "    <tr>\n",
       "      <th>0</th>\n",
       "      <td>0.0</td>\n",
       "      <td>264</td>\n",
       "      <td>5.0</td>\n",
       "      <td>0</td>\n",
       "      <td>F</td>\n",
       "      <td>2015</td>\n",
       "    </tr>\n",
       "    <tr>\n",
       "      <th>8</th>\n",
       "      <td>35.0</td>\n",
       "      <td>37</td>\n",
       "      <td>2328.0</td>\n",
       "      <td>5</td>\n",
       "      <td>F</td>\n",
       "      <td>2006</td>\n",
       "    </tr>\n",
       "    <tr>\n",
       "      <th>10</th>\n",
       "      <td>37.0</td>\n",
       "      <td>65</td>\n",
       "      <td>95.0</td>\n",
       "      <td>3</td>\n",
       "      <td>F</td>\n",
       "      <td>2006</td>\n",
       "    </tr>\n",
       "    <tr>\n",
       "      <th>13</th>\n",
       "      <td>35.0</td>\n",
       "      <td>32</td>\n",
       "      <td>28.0</td>\n",
       "      <td>31</td>\n",
       "      <td>M</td>\n",
       "      <td>2006</td>\n",
       "    </tr>\n",
       "    <tr>\n",
       "      <th>15</th>\n",
       "      <td>35.0</td>\n",
       "      <td>52</td>\n",
       "      <td>94.0</td>\n",
       "      <td>61</td>\n",
       "      <td>F</td>\n",
       "      <td>2006</td>\n",
       "    </tr>\n",
       "  </tbody>\n",
       "</table>\n",
       "</div>"
      ],
      "text/plain": [
       "    AMOUNT  AGE  ACTIVE_MONTHS  TOTAL_VISITS SEX  YEAR\n",
       "0      0.0  264            5.0             0   F  2015\n",
       "8     35.0   37         2328.0             5   F  2006\n",
       "10    37.0   65           95.0             3   F  2006\n",
       "13    35.0   32           28.0            31   M  2006\n",
       "15    35.0   52           94.0            61   F  2006"
      ]
     },
     "execution_count": 13,
     "metadata": {},
     "output_type": "execute_result"
    }
   ],
   "source": [
    "data_numerical.head()"
   ]
  },
  {
   "cell_type": "code",
   "execution_count": 14,
   "metadata": {},
   "outputs": [
    {
     "data": {
      "text/html": [
       "<div>\n",
       "<style>\n",
       "    .dataframe thead tr:only-child th {\n",
       "        text-align: right;\n",
       "    }\n",
       "\n",
       "    .dataframe thead th {\n",
       "        text-align: left;\n",
       "    }\n",
       "\n",
       "    .dataframe tbody tr th {\n",
       "        vertical-align: top;\n",
       "    }\n",
       "</style>\n",
       "<table border=\"1\" class=\"dataframe\">\n",
       "  <thead>\n",
       "    <tr style=\"text-align: right;\">\n",
       "      <th></th>\n",
       "      <th>AMOUNT</th>\n",
       "      <th>AGE</th>\n",
       "      <th>ACTIVE_MONTHS</th>\n",
       "      <th>TOTAL_VISITS</th>\n",
       "      <th>YEAR</th>\n",
       "    </tr>\n",
       "  </thead>\n",
       "  <tbody>\n",
       "    <tr>\n",
       "      <th>count</th>\n",
       "      <td>13645.000000</td>\n",
       "      <td>13645.000000</td>\n",
       "      <td>13645.000000</td>\n",
       "      <td>13645.000000</td>\n",
       "      <td>13645.000000</td>\n",
       "    </tr>\n",
       "    <tr>\n",
       "      <th>mean</th>\n",
       "      <td>18.453564</td>\n",
       "      <td>36.019568</td>\n",
       "      <td>14.309711</td>\n",
       "      <td>34.123488</td>\n",
       "      <td>2014.662147</td>\n",
       "    </tr>\n",
       "    <tr>\n",
       "      <th>std</th>\n",
       "      <td>12.924079</td>\n",
       "      <td>14.579139</td>\n",
       "      <td>62.026881</td>\n",
       "      <td>57.158611</td>\n",
       "      <td>1.181694</td>\n",
       "    </tr>\n",
       "    <tr>\n",
       "      <th>min</th>\n",
       "      <td>0.000000</td>\n",
       "      <td>0.000000</td>\n",
       "      <td>0.000000</td>\n",
       "      <td>0.000000</td>\n",
       "      <td>2006.000000</td>\n",
       "    </tr>\n",
       "    <tr>\n",
       "      <th>25%</th>\n",
       "      <td>10.880000</td>\n",
       "      <td>26.000000</td>\n",
       "      <td>8.000000</td>\n",
       "      <td>4.000000</td>\n",
       "      <td>2014.000000</td>\n",
       "    </tr>\n",
       "    <tr>\n",
       "      <th>50%</th>\n",
       "      <td>20.660000</td>\n",
       "      <td>33.000000</td>\n",
       "      <td>12.000000</td>\n",
       "      <td>13.000000</td>\n",
       "      <td>2015.000000</td>\n",
       "    </tr>\n",
       "    <tr>\n",
       "      <th>75%</th>\n",
       "      <td>27.190000</td>\n",
       "      <td>43.000000</td>\n",
       "      <td>15.000000</td>\n",
       "      <td>38.000000</td>\n",
       "      <td>2015.000000</td>\n",
       "    </tr>\n",
       "    <tr>\n",
       "      <th>max</th>\n",
       "      <td>120.790000</td>\n",
       "      <td>264.000000</td>\n",
       "      <td>2328.000000</td>\n",
       "      <td>628.000000</td>\n",
       "      <td>2017.000000</td>\n",
       "    </tr>\n",
       "  </tbody>\n",
       "</table>\n",
       "</div>"
      ],
      "text/plain": [
       "             AMOUNT           AGE  ACTIVE_MONTHS  TOTAL_VISITS          YEAR\n",
       "count  13645.000000  13645.000000   13645.000000  13645.000000  13645.000000\n",
       "mean      18.453564     36.019568      14.309711     34.123488   2014.662147\n",
       "std       12.924079     14.579139      62.026881     57.158611      1.181694\n",
       "min        0.000000      0.000000       0.000000      0.000000   2006.000000\n",
       "25%       10.880000     26.000000       8.000000      4.000000   2014.000000\n",
       "50%       20.660000     33.000000      12.000000     13.000000   2015.000000\n",
       "75%       27.190000     43.000000      15.000000     38.000000   2015.000000\n",
       "max      120.790000    264.000000    2328.000000    628.000000   2017.000000"
      ]
     },
     "execution_count": 14,
     "metadata": {},
     "output_type": "execute_result"
    }
   ],
   "source": [
    "data_numerical.describe()"
   ]
  },
  {
   "cell_type": "code",
   "execution_count": 15,
   "metadata": {
    "collapsed": true
   },
   "outputs": [],
   "source": [
    "def fix_age(age):\n",
    "    if age < 16:\n",
    "        return 20\n",
    "    elif age > 80:\n",
    "        return 80\n",
    "    else:\n",
    "        return age\n",
    "    \n",
    "def lifetime_value(amount, active_months):\n",
    "    if amount > 0:\n",
    "        value = amount*active_months\n",
    "    else:\n",
    "        # value = annual price x years of membership\n",
    "        value = (active_months/12)*250\n",
    "    return value"
   ]
  },
  {
   "cell_type": "code",
   "execution_count": 19,
   "metadata": {},
   "outputs": [
    {
     "data": {
      "text/html": [
       "<div>\n",
       "<style>\n",
       "    .dataframe thead tr:only-child th {\n",
       "        text-align: right;\n",
       "    }\n",
       "\n",
       "    .dataframe thead th {\n",
       "        text-align: left;\n",
       "    }\n",
       "\n",
       "    .dataframe tbody tr th {\n",
       "        vertical-align: top;\n",
       "    }\n",
       "</style>\n",
       "<table border=\"1\" class=\"dataframe\">\n",
       "  <thead>\n",
       "    <tr style=\"text-align: right;\">\n",
       "      <th></th>\n",
       "      <th>AMOUNT</th>\n",
       "      <th>AGE</th>\n",
       "      <th>ACTIVE_MONTHS</th>\n",
       "      <th>TOTAL_VISITS</th>\n",
       "      <th>SEX</th>\n",
       "      <th>YEAR</th>\n",
       "      <th>PAID_FULL</th>\n",
       "      <th>VALUE</th>\n",
       "    </tr>\n",
       "  </thead>\n",
       "  <tbody>\n",
       "    <tr>\n",
       "      <th>0</th>\n",
       "      <td>0.0</td>\n",
       "      <td>80</td>\n",
       "      <td>5.0</td>\n",
       "      <td>0</td>\n",
       "      <td>F</td>\n",
       "      <td>2015</td>\n",
       "      <td>1</td>\n",
       "      <td>104.166667</td>\n",
       "    </tr>\n",
       "    <tr>\n",
       "      <th>8</th>\n",
       "      <td>35.0</td>\n",
       "      <td>37</td>\n",
       "      <td>60.0</td>\n",
       "      <td>5</td>\n",
       "      <td>F</td>\n",
       "      <td>2006</td>\n",
       "      <td>0</td>\n",
       "      <td>2100.000000</td>\n",
       "    </tr>\n",
       "    <tr>\n",
       "      <th>10</th>\n",
       "      <td>37.0</td>\n",
       "      <td>65</td>\n",
       "      <td>60.0</td>\n",
       "      <td>3</td>\n",
       "      <td>F</td>\n",
       "      <td>2006</td>\n",
       "      <td>0</td>\n",
       "      <td>2220.000000</td>\n",
       "    </tr>\n",
       "  </tbody>\n",
       "</table>\n",
       "</div>"
      ],
      "text/plain": [
       "    AMOUNT  AGE  ACTIVE_MONTHS  TOTAL_VISITS SEX  YEAR  PAID_FULL        VALUE\n",
       "0      0.0   80            5.0             0   F  2015          1   104.166667\n",
       "8     35.0   37           60.0             5   F  2006          0  2100.000000\n",
       "10    37.0   65           60.0             3   F  2006          0  2220.000000"
      ]
     },
     "execution_count": 19,
     "metadata": {},
     "output_type": "execute_result"
    }
   ],
   "source": [
    "data_numerical['PAID_FULL'] = data_numerical['AMOUNT'].apply(lambda x: x==0)\n",
    "data_numerical['PAID_FULL'] = data_numerical['PAID_FULL'].astype(int)\n",
    "data_numerical['AGE'] = data_numerical['AGE'].apply(fix_age)\n",
    "data_numerical['ACTIVE_MONTHS'] = data_numerical['ACTIVE_MONTHS'].apply(\n",
    "                                        lambda x: x if x < 60 else 60)\n",
    "data_numerical['VALUE'] = data_numerical.apply(lambda row: \n",
    "                          lifetime_value(row['AMOUNT'], \n",
    "                          row['ACTIVE_MONTHS']), axis=1)\n",
    "data_numerical.head(3)"
   ]
  },
  {
   "cell_type": "markdown",
   "metadata": {},
   "source": [
    "## Visualization\n",
    "\n",
    "Let's explore the data. Here, we look at the distributions of:\n",
    "\n",
    "1. Monthly payment amount \n",
    "2. Lifetime value\n",
    "3. Age\n",
    "4. Length of Membership"
   ]
  },
  {
   "cell_type": "code",
   "execution_count": 22,
   "metadata": {},
   "outputs": [
    {
     "data": {
      "text/plain": [
       "<matplotlib.text.Text at 0x110d49fd0>"
      ]
     },
     "execution_count": 22,
     "metadata": {},
     "output_type": "execute_result"
    },
    {
     "data": {
      "image/png": "[encoded data removed]",
      "text/plain": [
       "<matplotlib.figure.Figure at 0x110cd9e10>"
      ]
     },
     "metadata": {},
     "output_type": "display_data"
    }
   ],
   "source": [
    "plt.figure()\n",
    "data_numerical['AMOUNT'].hist()\n",
    "plt.title('Payment Amount')\n",
    "plt.xlabel('Monthly Amount ($)')\n",
    "plt.ylabel('No. of Members')"
   ]
  },
  {
   "cell_type": "code",
   "execution_count": 21,
   "metadata": {},
   "outputs": [
    {
     "data": {
      "text/plain": [
       "<matplotlib.text.Text at 0x110d87fd0>"
      ]
     },
     "execution_count": 21,
     "metadata": {},
     "output_type": "execute_result"
    },
    {
     "data": {
      "image/png": "[encoded data removed]",
      "text/plain": [
       "<matplotlib.figure.Figure at 0x110dc8f60>"
      ]
     },
     "metadata": {},
     "output_type": "display_data"
    }
   ],
   "source": [
    "plt.figure()\n",
    "data_numerical['VALUE'].hist(bins=100)\n",
    "plt.title('Lifetime Value')\n",
    "plt.xlabel('Value over length of membership ($)')\n",
    "plt.ylabel('No. of Members')"
   ]
  },
  {
   "cell_type": "code",
   "execution_count": 159,
   "metadata": {},
   "outputs": [
    {
     "data": {
      "text/plain": [
       "<matplotlib.text.Text at 0x1230042b0>"
      ]
     },
     "execution_count": 159,
     "metadata": {},
     "output_type": "execute_result"
    },
    {
     "data": {
      "image/png": "[encoded data removed]",
      "text/plain": [
       "<matplotlib.figure.Figure at 0x122f9f9b0>"
      ]
     },
     "metadata": {},
     "output_type": "display_data"
    }
   ],
   "source": [
    "plt.figure()\n",
    "data_numerical['AGE'].hist(bins=20)\n",
    "plt.title('Age Distribution')\n",
    "plt.xlabel('Age (years)')\n",
    "plt.ylabel('No. of Members')"
   ]
  },
  {
   "cell_type": "code",
   "execution_count": 23,
   "metadata": {},
   "outputs": [
    {
     "data": {
      "text/plain": [
       "<matplotlib.text.Text at 0x111150550>"
      ]
     },
     "execution_count": 23,
     "metadata": {},
     "output_type": "execute_result"
    },
    {
     "data": {
      "image/png": "[encoded data removed]",
      "text/plain": [
       "<matplotlib.figure.Figure at 0x11118fcf8>"
      ]
     },
     "metadata": {},
     "output_type": "display_data"
    }
   ],
   "source": [
    "plt.figure()\n",
    "data_numerical['ACTIVE_MONTHS'].hist(bins=60)\n",
    "plt.title('Active Months')\n",
    "plt.xlabel('No. of Months Active')\n",
    "plt.ylabel('No. of Members')"
   ]
  },
  {
   "cell_type": "code",
   "execution_count": 24,
   "metadata": {},
   "outputs": [
    {
     "data": {
      "text/plain": [
       "<matplotlib.text.Text at 0x11392d400>"
      ]
     },
     "execution_count": 24,
     "metadata": {},
     "output_type": "execute_result"
    },
    {
     "data": {
      "image/png": "[encoded data removed]",
      "text/plain": [
       "<matplotlib.figure.Figure at 0x1112b4780>"
      ]
     },
     "metadata": {},
     "output_type": "display_data"
    }
   ],
   "source": [
    "feats = ['AGE','ACTIVE_MONTHS','AMOUNT']\n",
    "sns.boxplot(data=data_numerical[feats])\n",
    "plt.title('Distribution')"
   ]
  },
  {
   "cell_type": "markdown",
   "metadata": {},
   "source": [
    "** Let's explore the data for correlation between features. Keeping in mind that the created features (ie. Lifetime Value) will have strong correlation with the features from which they were made**"
   ]
  },
  {
   "cell_type": "code",
   "execution_count": 25,
   "metadata": {},
   "outputs": [
    {
     "data": {
      "text/plain": [
       "<matplotlib.text.Text at 0x113aafa20>"
      ]
     },
     "execution_count": 25,
     "metadata": {},
     "output_type": "execute_result"
    },
    {
     "data": {
      "image/png": "[encoded data removed]",
      "text/plain": [
       "<matplotlib.figure.Figure at 0x10a665da0>"
      ]
     },
     "metadata": {},
     "output_type": "display_data"
    }
   ],
   "source": [
    "sns.heatmap(data_numerical.drop(['SEX'],axis=1).corr())\n",
    "plt.title('Correlation Heatmap')\n",
    "#plt.savefig('correlation_heatmap.png', bbox_inches='tight')"
   ]
  },
  {
   "cell_type": "code",
   "execution_count": 29,
   "metadata": {},
   "outputs": [
    {
     "data": {
      "text/plain": [
       "<seaborn.axisgrid.JointGrid at 0x11446bb70>"
      ]
     },
     "execution_count": 29,
     "metadata": {},
     "output_type": "execute_result"
    },
    {
     "data": {
      "image/png": "[encoded data removed]",
      "text/plain": [
       "<matplotlib.figure.Figure at 0x11446beb8>"
      ]
     },
     "metadata": {},
     "output_type": "display_data"
    }
   ],
   "source": [
    "sns.jointplot(x='AMOUNT', y='ACTIVE_MONTHS', data=data_numerical, kind='hex', gridsize=15, color='green')\n",
    "#plt.savefig('Active_Amount.png', bbox_inches='tight')"
   ]
  },
  {
   "cell_type": "code",
   "execution_count": 30,
   "metadata": {},
   "outputs": [
    {
     "data": {
      "text/plain": [
       "<seaborn.axisgrid.JointGrid at 0x114911ac8>"
      ]
     },
     "execution_count": 30,
     "metadata": {},
     "output_type": "execute_result"
    },
    {
     "data": {
      "image/png": "[encoded data removed]",
      "text/plain": [
       "<matplotlib.figure.Figure at 0x114911e48>"
      ]
     },
     "metadata": {},
     "output_type": "display_data"
    }
   ],
   "source": [
    "sns.jointplot(x='AGE', y='AMOUNT', data=data_numerical, kind='hex', gridsize=15)"
   ]
  },
  {
   "cell_type": "markdown",
   "metadata": {},
   "source": [
    "** Monthly visits **"
   ]
  },
  {
   "cell_type": "code",
   "execution_count": 32,
   "metadata": {},
   "outputs": [
    {
     "data": {
      "text/html": [
       "<div>\n",
       "<style>\n",
       "    .dataframe thead tr:only-child th {\n",
       "        text-align: right;\n",
       "    }\n",
       "\n",
       "    .dataframe thead th {\n",
       "        text-align: left;\n",
       "    }\n",
       "\n",
       "    .dataframe tbody tr th {\n",
       "        vertical-align: top;\n",
       "    }\n",
       "</style>\n",
       "<table border=\"1\" class=\"dataframe\">\n",
       "  <thead>\n",
       "    <tr style=\"text-align: right;\">\n",
       "      <th></th>\n",
       "      <th>AMOUNT</th>\n",
       "      <th>AGE</th>\n",
       "      <th>ACTIVE_MONTHS</th>\n",
       "      <th>TOTAL_VISITS</th>\n",
       "      <th>SEX</th>\n",
       "      <th>YEAR</th>\n",
       "      <th>PAID_FULL</th>\n",
       "      <th>VALUE</th>\n",
       "    </tr>\n",
       "  </thead>\n",
       "  <tbody>\n",
       "    <tr>\n",
       "      <th>0</th>\n",
       "      <td>0.0</td>\n",
       "      <td>80</td>\n",
       "      <td>5.0</td>\n",
       "      <td>0</td>\n",
       "      <td>F</td>\n",
       "      <td>2015</td>\n",
       "      <td>1</td>\n",
       "      <td>104.166667</td>\n",
       "    </tr>\n",
       "    <tr>\n",
       "      <th>8</th>\n",
       "      <td>35.0</td>\n",
       "      <td>37</td>\n",
       "      <td>60.0</td>\n",
       "      <td>5</td>\n",
       "      <td>F</td>\n",
       "      <td>2006</td>\n",
       "      <td>0</td>\n",
       "      <td>2100.000000</td>\n",
       "    </tr>\n",
       "    <tr>\n",
       "      <th>10</th>\n",
       "      <td>37.0</td>\n",
       "      <td>65</td>\n",
       "      <td>60.0</td>\n",
       "      <td>3</td>\n",
       "      <td>F</td>\n",
       "      <td>2006</td>\n",
       "      <td>0</td>\n",
       "      <td>2220.000000</td>\n",
       "    </tr>\n",
       "  </tbody>\n",
       "</table>\n",
       "</div>"
      ],
      "text/plain": [
       "    AMOUNT  AGE  ACTIVE_MONTHS  TOTAL_VISITS SEX  YEAR  PAID_FULL        VALUE\n",
       "0      0.0   80            5.0             0   F  2015          1   104.166667\n",
       "8     35.0   37           60.0             5   F  2006          0  2100.000000\n",
       "10    37.0   65           60.0             3   F  2006          0  2220.000000"
      ]
     },
     "execution_count": 32,
     "metadata": {},
     "output_type": "execute_result"
    }
   ],
   "source": [
    "visit_value = data_numerical.copy()\n",
    "visit_value.head(3)"
   ]
  },
  {
   "cell_type": "code",
   "execution_count": 33,
   "metadata": {
    "collapsed": true
   },
   "outputs": [],
   "source": [
    "from math import ceil\n",
    "def monthly_visits(tot_visits,months):\n",
    "    if months == 0:\n",
    "        visits = 0\n",
    "    else:\n",
    "        visits = ceil(tot_visits/months)\n",
    "    return visits"
   ]
  },
  {
   "cell_type": "code",
   "execution_count": 34,
   "metadata": {},
   "outputs": [
    {
     "data": {
      "text/html": [
       "<div>\n",
       "<style>\n",
       "    .dataframe thead tr:only-child th {\n",
       "        text-align: right;\n",
       "    }\n",
       "\n",
       "    .dataframe thead th {\n",
       "        text-align: left;\n",
       "    }\n",
       "\n",
       "    .dataframe tbody tr th {\n",
       "        vertical-align: top;\n",
       "    }\n",
       "</style>\n",
       "<table border=\"1\" class=\"dataframe\">\n",
       "  <thead>\n",
       "    <tr style=\"text-align: right;\">\n",
       "      <th></th>\n",
       "      <th>AMOUNT</th>\n",
       "      <th>AGE</th>\n",
       "      <th>ACTIVE_MONTHS</th>\n",
       "      <th>TOTAL_VISITS</th>\n",
       "      <th>SEX</th>\n",
       "      <th>YEAR</th>\n",
       "      <th>PAID_FULL</th>\n",
       "      <th>VALUE</th>\n",
       "      <th>MONTHLY_VISITS</th>\n",
       "    </tr>\n",
       "  </thead>\n",
       "  <tbody>\n",
       "    <tr>\n",
       "      <th>0</th>\n",
       "      <td>0.0</td>\n",
       "      <td>80</td>\n",
       "      <td>5.0</td>\n",
       "      <td>0</td>\n",
       "      <td>F</td>\n",
       "      <td>2015</td>\n",
       "      <td>1</td>\n",
       "      <td>104.166667</td>\n",
       "      <td>0</td>\n",
       "    </tr>\n",
       "    <tr>\n",
       "      <th>8</th>\n",
       "      <td>35.0</td>\n",
       "      <td>37</td>\n",
       "      <td>60.0</td>\n",
       "      <td>5</td>\n",
       "      <td>F</td>\n",
       "      <td>2006</td>\n",
       "      <td>0</td>\n",
       "      <td>2100.000000</td>\n",
       "      <td>1</td>\n",
       "    </tr>\n",
       "    <tr>\n",
       "      <th>10</th>\n",
       "      <td>37.0</td>\n",
       "      <td>65</td>\n",
       "      <td>60.0</td>\n",
       "      <td>3</td>\n",
       "      <td>F</td>\n",
       "      <td>2006</td>\n",
       "      <td>0</td>\n",
       "      <td>2220.000000</td>\n",
       "      <td>1</td>\n",
       "    </tr>\n",
       "  </tbody>\n",
       "</table>\n",
       "</div>"
      ],
      "text/plain": [
       "    AMOUNT  AGE  ACTIVE_MONTHS  TOTAL_VISITS SEX  YEAR  PAID_FULL  \\\n",
       "0      0.0   80            5.0             0   F  2015          1   \n",
       "8     35.0   37           60.0             5   F  2006          0   \n",
       "10    37.0   65           60.0             3   F  2006          0   \n",
       "\n",
       "          VALUE  MONTHLY_VISITS  \n",
       "0    104.166667               0  \n",
       "8   2100.000000               1  \n",
       "10  2220.000000               1  "
      ]
     },
     "execution_count": 34,
     "metadata": {},
     "output_type": "execute_result"
    }
   ],
   "source": [
    "visit_value['MONTHLY_VISITS'] = visit_value.apply(lambda row: \n",
    "                                                  monthly_visits(row['TOTAL_VISITS'],\n",
    "                                                                 row['ACTIVE_MONTHS']),axis=1)\n",
    "visit_value.head(3)"
   ]
  },
  {
   "cell_type": "code",
   "execution_count": 35,
   "metadata": {},
   "outputs": [
    {
     "data": {
      "text/plain": [
       "<matplotlib.text.Text at 0x114d0f908>"
      ]
     },
     "execution_count": 35,
     "metadata": {},
     "output_type": "execute_result"
    },
    {
     "data": {
      "image/png": "[encoded data removed]",
      "text/plain": [
       "<matplotlib.figure.Figure at 0x115221d30>"
      ]
     },
     "metadata": {},
     "output_type": "display_data"
    }
   ],
   "source": [
    "visit_value[visit_value['MONTHLY_VISITS']<31]['MONTHLY_VISITS'].value_counts().sort_index().plot.bar(figsize=(12, 6))\n",
    "plt.title('Monthly Visits')\n",
    "plt.ylabel('Number of Members')\n",
    "#plt.savefig('Monthly_Visits.png', bbox_inches='tight')"
   ]
  },
  {
   "cell_type": "markdown",
   "metadata": {},
   "source": [
    "## Quick Classification Trial\n",
    "\n",
    "Rough mock-up of a scikit pipeline to assess whether data can accurately be classified\n",
    "\n",
    "Also try to perform regression later if classification is successful\n",
    "\n",
    "**1. Predicting Two Year Customers (Since most cancel after 1-year**"
   ]
  },
  {
   "cell_type": "code",
   "execution_count": 45,
   "metadata": {},
   "outputs": [
    {
     "data": {
      "text/html": [
       "<div>\n",
       "<style>\n",
       "    .dataframe thead tr:only-child th {\n",
       "        text-align: right;\n",
       "    }\n",
       "\n",
       "    .dataframe thead th {\n",
       "        text-align: left;\n",
       "    }\n",
       "\n",
       "    .dataframe tbody tr th {\n",
       "        vertical-align: top;\n",
       "    }\n",
       "</style>\n",
       "<table border=\"1\" class=\"dataframe\">\n",
       "  <thead>\n",
       "    <tr style=\"text-align: right;\">\n",
       "      <th></th>\n",
       "      <th>AMOUNT</th>\n",
       "      <th>AGE</th>\n",
       "      <th>ACTIVE_MONTHS</th>\n",
       "      <th>TOTAL_VISITS</th>\n",
       "      <th>YEAR</th>\n",
       "      <th>PAID_FULL</th>\n",
       "      <th>VALUE</th>\n",
       "      <th>SEX_M</th>\n",
       "      <th>TWO_YEAR_True</th>\n",
       "    </tr>\n",
       "  </thead>\n",
       "  <tbody>\n",
       "    <tr>\n",
       "      <th>0</th>\n",
       "      <td>0.0</td>\n",
       "      <td>80</td>\n",
       "      <td>5.0</td>\n",
       "      <td>0</td>\n",
       "      <td>2015</td>\n",
       "      <td>1</td>\n",
       "      <td>104.166667</td>\n",
       "      <td>0</td>\n",
       "      <td>0</td>\n",
       "    </tr>\n",
       "    <tr>\n",
       "      <th>8</th>\n",
       "      <td>35.0</td>\n",
       "      <td>37</td>\n",
       "      <td>60.0</td>\n",
       "      <td>5</td>\n",
       "      <td>2006</td>\n",
       "      <td>0</td>\n",
       "      <td>2100.000000</td>\n",
       "      <td>0</td>\n",
       "      <td>1</td>\n",
       "    </tr>\n",
       "    <tr>\n",
       "      <th>10</th>\n",
       "      <td>37.0</td>\n",
       "      <td>65</td>\n",
       "      <td>60.0</td>\n",
       "      <td>3</td>\n",
       "      <td>2006</td>\n",
       "      <td>0</td>\n",
       "      <td>2220.000000</td>\n",
       "      <td>0</td>\n",
       "      <td>1</td>\n",
       "    </tr>\n",
       "    <tr>\n",
       "      <th>13</th>\n",
       "      <td>35.0</td>\n",
       "      <td>32</td>\n",
       "      <td>28.0</td>\n",
       "      <td>31</td>\n",
       "      <td>2006</td>\n",
       "      <td>0</td>\n",
       "      <td>980.000000</td>\n",
       "      <td>1</td>\n",
       "      <td>1</td>\n",
       "    </tr>\n",
       "    <tr>\n",
       "      <th>15</th>\n",
       "      <td>35.0</td>\n",
       "      <td>52</td>\n",
       "      <td>60.0</td>\n",
       "      <td>61</td>\n",
       "      <td>2006</td>\n",
       "      <td>0</td>\n",
       "      <td>2100.000000</td>\n",
       "      <td>0</td>\n",
       "      <td>1</td>\n",
       "    </tr>\n",
       "  </tbody>\n",
       "</table>\n",
       "</div>"
      ],
      "text/plain": [
       "    AMOUNT  AGE  ACTIVE_MONTHS  TOTAL_VISITS  YEAR  PAID_FULL        VALUE  \\\n",
       "0      0.0   80            5.0             0  2015          1   104.166667   \n",
       "8     35.0   37           60.0             5  2006          0  2100.000000   \n",
       "10    37.0   65           60.0             3  2006          0  2220.000000   \n",
       "13    35.0   32           28.0            31  2006          0   980.000000   \n",
       "15    35.0   52           60.0            61  2006          0  2100.000000   \n",
       "\n",
       "    SEX_M  TWO_YEAR_True  \n",
       "0       0              0  \n",
       "8       0              1  \n",
       "10      0              1  \n",
       "13      1              1  \n",
       "15      0              1  "
      ]
     },
     "execution_count": 45,
     "metadata": {},
     "output_type": "execute_result"
    }
   ],
   "source": [
    "#data_numerical['TWO_YEAR'] = data_numerical['ACTIVE_MONTHS'] >= 24\n",
    "#cat_feats = ['SEX','TWO_YEAR']\n",
    "#data_numerical = pd.get_dummies(data_numerical,columns=cat_feats)\n",
    "#data_numerical.drop(['TWO_YEAR'],inplace=True, axis=1)\n",
    "#data_numerical.drop(['SEX_U'],inplace=True, axis=1)\n",
    "data_numerical.head()"
   ]
  },
  {
   "cell_type": "code",
   "execution_count": 55,
   "metadata": {
    "collapsed": true
   },
   "outputs": [],
   "source": [
    "X = data_numerical.drop(['TWO_YEAR_True', 'ACTIVE_MONTHS',\n",
    "                         'YEAR','VALUE','TOTAL_VISITS'], axis=1)\n",
    "y = data_numerical['TWO_YEAR_True']"
   ]
  },
  {
   "cell_type": "code",
   "execution_count": 56,
   "metadata": {
    "collapsed": true
   },
   "outputs": [],
   "source": [
    "from sklearn.model_selection import train_test_split\n",
    "from sklearn.tree import DecisionTreeClassifier\n",
    "from sklearn.ensemble import RandomForestClassifier\n",
    "from sklearn.metrics import classification_report, confusion_matrix"
   ]
  },
  {
   "cell_type": "code",
   "execution_count": 57,
   "metadata": {
    "collapsed": true
   },
   "outputs": [],
   "source": [
    "X_train, X_test, y_train, y_test = train_test_split(X, y, random_state = 0)"
   ]
  },
  {
   "cell_type": "code",
   "execution_count": 58,
   "metadata": {
    "collapsed": true
   },
   "outputs": [],
   "source": [
    "model = DecisionTreeClassifier()\n",
    "model.fit(X_train, y_train)\n",
    "predictions = model.predict(X_test)"
   ]
  },
  {
   "cell_type": "code",
   "execution_count": 59,
   "metadata": {},
   "outputs": [
    {
     "name": "stdout",
     "output_type": "stream",
     "text": [
      "classification report\n",
      "             precision    recall  f1-score   support\n",
      "\n",
      "          0       0.92      0.98      0.94      3106\n",
      "          1       0.27      0.09      0.14       306\n",
      "\n",
      "avg / total       0.86      0.90      0.87      3412\n",
      "\n",
      "confusion matrix\n",
      "[[3031   75]\n",
      " [ 278   28]]\n"
     ]
    }
   ],
   "source": [
    "print('classification report')\n",
    "print(classification_report(y_test, predictions))\n",
    "print('confusion matrix')\n",
    "print(confusion_matrix(y_test,predictions))"
   ]
  },
  {
   "cell_type": "markdown",
   "metadata": {},
   "source": [
    "Random Forest Classifier"
   ]
  },
  {
   "cell_type": "code",
   "execution_count": 60,
   "metadata": {},
   "outputs": [
    {
     "name": "stdout",
     "output_type": "stream",
     "text": [
      "classification report\n",
      "             precision    recall  f1-score   support\n",
      "\n",
      "          0       0.92      0.98      0.95      3106\n",
      "          1       0.31      0.10      0.15       306\n",
      "\n",
      "avg / total       0.86      0.90      0.88      3412\n",
      "\n",
      "confusion matrix\n",
      "[[3039   67]\n",
      " [ 276   30]]\n"
     ]
    }
   ],
   "source": [
    "model = RandomForestClassifier()\n",
    "model.fit(X_train, y_train)\n",
    "predictions = model.predict(X_test)\n",
    "print('classification report')\n",
    "print(classification_report(y_test, predictions))\n",
    "print('confusion matrix')\n",
    "print(confusion_matrix(y_test,predictions))"
   ]
  },
  {
   "cell_type": "markdown",
   "metadata": {},
   "source": [
    "**2. Predicting Membership past one year**"
   ]
  },
  {
   "cell_type": "code",
   "execution_count": 61,
   "metadata": {},
   "outputs": [
    {
     "data": {
      "text/html": [
       "<div>\n",
       "<style>\n",
       "    .dataframe thead tr:only-child th {\n",
       "        text-align: right;\n",
       "    }\n",
       "\n",
       "    .dataframe thead th {\n",
       "        text-align: left;\n",
       "    }\n",
       "\n",
       "    .dataframe tbody tr th {\n",
       "        vertical-align: top;\n",
       "    }\n",
       "</style>\n",
       "<table border=\"1\" class=\"dataframe\">\n",
       "  <thead>\n",
       "    <tr style=\"text-align: right;\">\n",
       "      <th></th>\n",
       "      <th>AMOUNT</th>\n",
       "      <th>AGE</th>\n",
       "      <th>ACTIVE_MONTHS</th>\n",
       "      <th>TOTAL_VISITS</th>\n",
       "      <th>YEAR</th>\n",
       "      <th>PAID_FULL</th>\n",
       "      <th>VALUE</th>\n",
       "      <th>SEX_M</th>\n",
       "      <th>ONE_YEAR</th>\n",
       "    </tr>\n",
       "  </thead>\n",
       "  <tbody>\n",
       "    <tr>\n",
       "      <th>0</th>\n",
       "      <td>0.0</td>\n",
       "      <td>80</td>\n",
       "      <td>5.0</td>\n",
       "      <td>0</td>\n",
       "      <td>2015</td>\n",
       "      <td>1</td>\n",
       "      <td>104.166667</td>\n",
       "      <td>0</td>\n",
       "      <td>0</td>\n",
       "    </tr>\n",
       "  </tbody>\n",
       "</table>\n",
       "</div>"
      ],
      "text/plain": [
       "   AMOUNT  AGE  ACTIVE_MONTHS  TOTAL_VISITS  YEAR  PAID_FULL       VALUE  \\\n",
       "0     0.0   80            5.0             0  2015          1  104.166667   \n",
       "\n",
       "   SEX_M  ONE_YEAR  \n",
       "0      0         0  "
      ]
     },
     "execution_count": 61,
     "metadata": {},
     "output_type": "execute_result"
    }
   ],
   "source": [
    "data_numerical.rename(columns={'TWO_YEAR_True': 'ONE_YEAR'}, inplace=True)\n",
    "data_numerical.head(1)"
   ]
  },
  {
   "cell_type": "code",
   "execution_count": 62,
   "metadata": {},
   "outputs": [
    {
     "data": {
      "text/html": [
       "<div>\n",
       "<style>\n",
       "    .dataframe thead tr:only-child th {\n",
       "        text-align: right;\n",
       "    }\n",
       "\n",
       "    .dataframe thead th {\n",
       "        text-align: left;\n",
       "    }\n",
       "\n",
       "    .dataframe tbody tr th {\n",
       "        vertical-align: top;\n",
       "    }\n",
       "</style>\n",
       "<table border=\"1\" class=\"dataframe\">\n",
       "  <thead>\n",
       "    <tr style=\"text-align: right;\">\n",
       "      <th></th>\n",
       "      <th>AMOUNT</th>\n",
       "      <th>AGE</th>\n",
       "      <th>ACTIVE_MONTHS</th>\n",
       "      <th>TOTAL_VISITS</th>\n",
       "      <th>YEAR</th>\n",
       "      <th>PAID_FULL</th>\n",
       "      <th>VALUE</th>\n",
       "      <th>SEX_M</th>\n",
       "      <th>ONE_YEAR</th>\n",
       "    </tr>\n",
       "  </thead>\n",
       "  <tbody>\n",
       "    <tr>\n",
       "      <th>0</th>\n",
       "      <td>0.0</td>\n",
       "      <td>80</td>\n",
       "      <td>5.0</td>\n",
       "      <td>0</td>\n",
       "      <td>2015</td>\n",
       "      <td>1</td>\n",
       "      <td>104.166667</td>\n",
       "      <td>0</td>\n",
       "      <td>False</td>\n",
       "    </tr>\n",
       "    <tr>\n",
       "      <th>8</th>\n",
       "      <td>35.0</td>\n",
       "      <td>37</td>\n",
       "      <td>60.0</td>\n",
       "      <td>5</td>\n",
       "      <td>2006</td>\n",
       "      <td>0</td>\n",
       "      <td>2100.000000</td>\n",
       "      <td>0</td>\n",
       "      <td>True</td>\n",
       "    </tr>\n",
       "    <tr>\n",
       "      <th>10</th>\n",
       "      <td>37.0</td>\n",
       "      <td>65</td>\n",
       "      <td>60.0</td>\n",
       "      <td>3</td>\n",
       "      <td>2006</td>\n",
       "      <td>0</td>\n",
       "      <td>2220.000000</td>\n",
       "      <td>0</td>\n",
       "      <td>True</td>\n",
       "    </tr>\n",
       "  </tbody>\n",
       "</table>\n",
       "</div>"
      ],
      "text/plain": [
       "    AMOUNT  AGE  ACTIVE_MONTHS  TOTAL_VISITS  YEAR  PAID_FULL        VALUE  \\\n",
       "0      0.0   80            5.0             0  2015          1   104.166667   \n",
       "8     35.0   37           60.0             5  2006          0  2100.000000   \n",
       "10    37.0   65           60.0             3  2006          0  2220.000000   \n",
       "\n",
       "    SEX_M  ONE_YEAR  \n",
       "0       0     False  \n",
       "8       0      True  \n",
       "10      0      True  "
      ]
     },
     "execution_count": 62,
     "metadata": {},
     "output_type": "execute_result"
    }
   ],
   "source": [
    "data_numerical['ONE_YEAR'] = data_numerical['ACTIVE_MONTHS'] > 12\n",
    "data_numerical.head(3)"
   ]
  },
  {
   "cell_type": "code",
   "execution_count": 63,
   "metadata": {},
   "outputs": [
    {
     "data": {
      "text/html": [
       "<div>\n",
       "<style>\n",
       "    .dataframe thead tr:only-child th {\n",
       "        text-align: right;\n",
       "    }\n",
       "\n",
       "    .dataframe thead th {\n",
       "        text-align: left;\n",
       "    }\n",
       "\n",
       "    .dataframe tbody tr th {\n",
       "        vertical-align: top;\n",
       "    }\n",
       "</style>\n",
       "<table border=\"1\" class=\"dataframe\">\n",
       "  <thead>\n",
       "    <tr style=\"text-align: right;\">\n",
       "      <th></th>\n",
       "      <th>AMOUNT</th>\n",
       "      <th>AGE</th>\n",
       "      <th>ACTIVE_MONTHS</th>\n",
       "      <th>TOTAL_VISITS</th>\n",
       "      <th>YEAR</th>\n",
       "      <th>PAID_FULL</th>\n",
       "      <th>VALUE</th>\n",
       "      <th>SEX_M</th>\n",
       "      <th>ONE_YEAR_True</th>\n",
       "    </tr>\n",
       "  </thead>\n",
       "  <tbody>\n",
       "    <tr>\n",
       "      <th>0</th>\n",
       "      <td>0.0</td>\n",
       "      <td>80</td>\n",
       "      <td>5.0</td>\n",
       "      <td>0</td>\n",
       "      <td>2015</td>\n",
       "      <td>1</td>\n",
       "      <td>104.166667</td>\n",
       "      <td>0</td>\n",
       "      <td>0</td>\n",
       "    </tr>\n",
       "    <tr>\n",
       "      <th>8</th>\n",
       "      <td>35.0</td>\n",
       "      <td>37</td>\n",
       "      <td>60.0</td>\n",
       "      <td>5</td>\n",
       "      <td>2006</td>\n",
       "      <td>0</td>\n",
       "      <td>2100.000000</td>\n",
       "      <td>0</td>\n",
       "      <td>1</td>\n",
       "    </tr>\n",
       "    <tr>\n",
       "      <th>10</th>\n",
       "      <td>37.0</td>\n",
       "      <td>65</td>\n",
       "      <td>60.0</td>\n",
       "      <td>3</td>\n",
       "      <td>2006</td>\n",
       "      <td>0</td>\n",
       "      <td>2220.000000</td>\n",
       "      <td>0</td>\n",
       "      <td>1</td>\n",
       "    </tr>\n",
       "    <tr>\n",
       "      <th>13</th>\n",
       "      <td>35.0</td>\n",
       "      <td>32</td>\n",
       "      <td>28.0</td>\n",
       "      <td>31</td>\n",
       "      <td>2006</td>\n",
       "      <td>0</td>\n",
       "      <td>980.000000</td>\n",
       "      <td>1</td>\n",
       "      <td>1</td>\n",
       "    </tr>\n",
       "    <tr>\n",
       "      <th>15</th>\n",
       "      <td>35.0</td>\n",
       "      <td>52</td>\n",
       "      <td>60.0</td>\n",
       "      <td>61</td>\n",
       "      <td>2006</td>\n",
       "      <td>0</td>\n",
       "      <td>2100.000000</td>\n",
       "      <td>0</td>\n",
       "      <td>1</td>\n",
       "    </tr>\n",
       "  </tbody>\n",
       "</table>\n",
       "</div>"
      ],
      "text/plain": [
       "    AMOUNT  AGE  ACTIVE_MONTHS  TOTAL_VISITS  YEAR  PAID_FULL        VALUE  \\\n",
       "0      0.0   80            5.0             0  2015          1   104.166667   \n",
       "8     35.0   37           60.0             5  2006          0  2100.000000   \n",
       "10    37.0   65           60.0             3  2006          0  2220.000000   \n",
       "13    35.0   32           28.0            31  2006          0   980.000000   \n",
       "15    35.0   52           60.0            61  2006          0  2100.000000   \n",
       "\n",
       "    SEX_M  ONE_YEAR_True  \n",
       "0       0              0  \n",
       "8       0              1  \n",
       "10      0              1  \n",
       "13      1              1  \n",
       "15      0              1  "
      ]
     },
     "execution_count": 63,
     "metadata": {},
     "output_type": "execute_result"
    }
   ],
   "source": [
    "cat_feats = ['ONE_YEAR']\n",
    "data_numerical = pd.get_dummies(data_numerical,columns=cat_feats, drop_first=True)\n",
    "data_numerical.head()"
   ]
  },
  {
   "cell_type": "code",
   "execution_count": 64,
   "metadata": {
    "collapsed": true
   },
   "outputs": [],
   "source": [
    "X = data_numerical.drop(['ONE_YEAR_True', 'ACTIVE_MONTHS',\n",
    "                         'YEAR','VALUE','TOTAL_VISITS'], axis=1)\n",
    "y = data_numerical['ONE_YEAR_True']"
   ]
  },
  {
   "cell_type": "code",
   "execution_count": 65,
   "metadata": {},
   "outputs": [
    {
     "name": "stdout",
     "output_type": "stream",
     "text": [
      "classification report\n",
      "             precision    recall  f1-score   support\n",
      "\n",
      "          0       0.62      0.73      0.67      1920\n",
      "          1       0.55      0.43      0.48      1492\n",
      "\n",
      "avg / total       0.59      0.60      0.59      3412\n",
      "\n",
      "confusion matrix\n",
      "[[1403  517]\n",
      " [ 854  638]]\n"
     ]
    }
   ],
   "source": [
    "X_train, X_test, y_train, y_test = train_test_split(X, y, random_state = 0)\n",
    "model = DecisionTreeClassifier()\n",
    "model.fit(X_train, y_train)\n",
    "predictions = model.predict(X_test)\n",
    "print('classification report')\n",
    "print(classification_report(y_test, predictions))\n",
    "print('confusion matrix')\n",
    "print(confusion_matrix(y_test,predictions))"
   ]
  },
  {
   "cell_type": "code",
   "execution_count": 66,
   "metadata": {},
   "outputs": [
    {
     "name": "stdout",
     "output_type": "stream",
     "text": [
      "classification report\n",
      "             precision    recall  f1-score   support\n",
      "\n",
      "          0       0.63      0.68      0.66      1920\n",
      "          1       0.55      0.49      0.52      1492\n",
      "\n",
      "avg / total       0.60      0.60      0.60      3412\n",
      "\n",
      "confusion matrix\n",
      "[[1308  612]\n",
      " [ 756  736]]\n"
     ]
    }
   ],
   "source": [
    "model = RandomForestClassifier()\n",
    "model.fit(X_train, y_train)\n",
    "predictions = model.predict(X_test)\n",
    "print('classification report')\n",
    "print(classification_report(y_test, predictions))\n",
    "print('confusion matrix')\n",
    "print(confusion_matrix(y_test,predictions))"
   ]
  },
  {
   "cell_type": "markdown",
   "metadata": {},
   "source": [
    "**Conclusions** \n",
    "+ The current data available is not suited for predictive modeling. Comprehensive data collection methods will be suggested for the future. \n",
    "+ The data should also be explored in more depth to identify important trends and behavior, to better serve customers and develop marketing strategies to improve member retention.\n",
    "\n",
    "**Original Questions**\n",
    "1. Correlation between payment amount and length of membership \n",
    "2. Male vs Female lifetime value\n",
    "3. Monthly visits & value\n",
    "\n",
    "**New Ideas**\n",
    "1. Year-by-year (start date)\n",
    "2. Remove Paid-in-full members "
   ]
  }
 ],
 "metadata": {
  "kernelspec": {
   "display_name": "Python 3",
   "language": "python",
   "name": "python3"
  },
  "language_info": {
   "codemirror_mode": {
    "name": "ipython",
    "version": 3
   },
   "file_extension": ".py",
   "mimetype": "text/x-python",
   "name": "python",
   "nbconvert_exporter": "python",
   "pygments_lexer": "ipython3",
   "version": "3.6.1"
  }
 },
 "nbformat": 4,
 "nbformat_minor": 2
}
